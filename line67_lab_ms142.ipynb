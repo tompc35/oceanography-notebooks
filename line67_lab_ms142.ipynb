{
  "nbformat": 4,
  "nbformat_minor": 0,
  "metadata": {
    "colab": {
      "name": "line67_lab_ms142.ipynb",
      "version": "0.3.2",
      "provenance": [],
      "collapsed_sections": [],
      "include_colab_link": true
    },
    "kernelspec": {
      "name": "python3",
      "display_name": "Python 3"
    }
  },
  "cells": [
    {
      "cell_type": "markdown",
      "metadata": {
        "id": "view-in-github",
        "colab_type": "text"
      },
      "source": [
        "<a href=\"https://colab.research.google.com/github/tompc35/oceanography-notebooks/blob/master/line67_lab_ms142.ipynb\" target=\"_parent\"><img src=\"https://colab.research.google.com/assets/colab-badge.svg\" alt=\"Open In Colab\"/></a>"
      ]
    },
    {
      "metadata": {
        "id": "SIGzbtydwTfQ",
        "colab_type": "text"
      },
      "cell_type": "markdown",
      "source": [
        "# MS 142 Python tutorial\n",
        "\n",
        "A brief tutorial on using Python for oceanographic data analysis. Uses data from MBARI's extensice Line 67 data set. The data are loaded automatically, but further information about the data can be found at:\n",
        "\n",
        "https://www3.mbari.org/bog/roadmap/roadmap.htm#data\n",
        "\n",
        "## Install special oceanography tools and download data\n",
        "\n",
        "This notebook is being run on a Google server, so we need to first install specialized software and download data.\n",
        "\n",
        "Run the lines of code below. These lines 1) install the Gibbs Seawater Toolbox (GSW) and 2) download MBARI's Line 67 data set."
      ]
    },
    {
      "metadata": {
        "id": "zw0bxXGMqC9H",
        "colab_type": "code",
        "outputId": "c57a19bc-d47d-4917-e297-d687375b78e3",
        "colab": {
          "base_uri": "https://localhost:8080/",
          "height": 156
        }
      },
      "cell_type": "code",
      "source": [
        "!pip install gsw\n",
        "!git clone https://github.com/tompc35/line_67_data.git data"
      ],
      "execution_count": 0,
      "outputs": [
        {
          "output_type": "stream",
          "text": [
            "Requirement already satisfied: gsw in /usr/local/lib/python3.6/dist-packages (3.2.1)\n",
            "Requirement already satisfied: numpy in /usr/local/lib/python3.6/dist-packages (from gsw) (1.14.6)\n",
            "Cloning into 'data'...\n",
            "remote: Enumerating objects: 6, done.\u001b[K\n",
            "remote: Counting objects: 100% (6/6), done.\u001b[K\n",
            "remote: Compressing objects: 100% (5/5), done.\u001b[K\n",
            "remote: Total 6 (delta 0), reused 0 (delta 0), pack-reused 0\u001b[K\n",
            "Unpacking objects: 100% (6/6), done.\n"
          ],
          "name": "stdout"
        }
      ]
    },
    {
      "metadata": {
        "id": "dnY5Kmypw53Q",
        "colab_type": "text"
      },
      "cell_type": "markdown",
      "source": [
        "## Import toolboxes\n",
        "\n",
        "* Numpy - mathematics\n",
        "* Pyplot - plotting\n",
        "* Pandas - data analysis (good for spreadsheet data)\n",
        "* GSW - oceanography-specific seawater toolbox"
      ]
    },
    {
      "metadata": {
        "id": "18vkJWS4qEv7",
        "colab_type": "code",
        "colab": {}
      },
      "cell_type": "code",
      "source": [
        "# enter code here and run"
      ],
      "execution_count": 0,
      "outputs": []
    },
    {
      "metadata": {
        "id": "XyRT6HtEyj0Y",
        "colab_type": "text"
      },
      "cell_type": "markdown",
      "source": [
        "## Python syntax and seawater toolbox examples"
      ]
    },
    {
      "metadata": {
        "id": "Vk7cMo1yydwz",
        "colab_type": "code",
        "colab": {}
      },
      "cell_type": "code",
      "source": [
        "# enter code here and run"
      ],
      "execution_count": 0,
      "outputs": []
    },
    {
      "metadata": {
        "id": "0w4XwZ5lxj0S",
        "colab_type": "text"
      },
      "cell_type": "markdown",
      "source": [
        "## Import data\n",
        "\n",
        "Load the data into a Pandas dataframe. Look at the top of the data file."
      ]
    },
    {
      "metadata": {
        "id": "JtkZQq92rSqC",
        "colab_type": "code",
        "colab": {}
      },
      "cell_type": "code",
      "source": [
        "# enter code here"
      ],
      "execution_count": 0,
      "outputs": []
    },
    {
      "metadata": {
        "id": "egJEb-9dyXhZ",
        "colab_type": "text"
      },
      "cell_type": "markdown",
      "source": [
        "## Make plots\n",
        "\n",
        "Logitude vs. time"
      ]
    },
    {
      "metadata": {
        "id": "JcJlFYLprszU",
        "colab_type": "code",
        "colab": {}
      },
      "cell_type": "code",
      "source": [
        "# enter code here"
      ],
      "execution_count": 0,
      "outputs": []
    },
    {
      "metadata": {
        "id": "jyHJH0nH1f_L",
        "colab_type": "text"
      },
      "cell_type": "markdown",
      "source": [
        "Oxygen vs. depth"
      ]
    },
    {
      "metadata": {
        "id": "13PpKqM41fhq",
        "colab_type": "code",
        "colab": {}
      },
      "cell_type": "code",
      "source": [
        "# enter code here"
      ],
      "execution_count": 0,
      "outputs": []
    },
    {
      "metadata": {
        "id": "EmlgA0UN1rYu",
        "colab_type": "text"
      },
      "cell_type": "markdown",
      "source": [
        "Oxygen vs. nitrate, colored by depth"
      ]
    },
    {
      "metadata": {
        "id": "HsAeX4Jzsaqw",
        "colab_type": "code",
        "colab": {}
      },
      "cell_type": "code",
      "source": [
        "# enter code here"
      ],
      "execution_count": 0,
      "outputs": []
    },
    {
      "metadata": {
        "id": "l2vByaaZ15jZ",
        "colab_type": "text"
      },
      "cell_type": "markdown",
      "source": [
        "## Indpendent exercises\n",
        "\n",
        "1) Make a plot of salinity vs. temperature, colored by longitude."
      ]
    },
    {
      "metadata": {
        "id": "ZcmK9cYOtDeb",
        "colab_type": "code",
        "colab": {}
      },
      "cell_type": "code",
      "source": [
        "# enter code here"
      ],
      "execution_count": 0,
      "outputs": []
    },
    {
      "metadata": {
        "id": "meLZOQqn6mvo",
        "colab_type": "text"
      },
      "cell_type": "markdown",
      "source": [
        "2) Make a plot of nitrate vs. phosphate."
      ]
    },
    {
      "metadata": {
        "id": "68Zo1lYz6mgQ",
        "colab_type": "code",
        "colab": {}
      },
      "cell_type": "code",
      "source": [
        "# enter code here"
      ],
      "execution_count": 0,
      "outputs": []
    },
    {
      "metadata": {
        "id": "FXq2gJj27WyX",
        "colab_type": "text"
      },
      "cell_type": "markdown",
      "source": [
        "3) Make an original plot of your choosing. Use indexing to make a subset, or multiple subsets, of the data. In the text box at the bottom:\n",
        "\n",
        "a. Explain any patterns you see\n",
        "\n",
        "b. List any questions you have about the data, or Python"
      ]
    },
    {
      "metadata": {
        "id": "m5Veogin8kvX",
        "colab_type": "code",
        "colab": {}
      },
      "cell_type": "code",
      "source": [
        "# enter code here"
      ],
      "execution_count": 0,
      "outputs": []
    },
    {
      "metadata": {
        "id": "FZ65u2KcAFFn",
        "colab_type": "text"
      },
      "cell_type": "markdown",
      "source": [
        "Enter text here."
      ]
    },
    {
      "metadata": {
        "id": "87EzIeIC2fK2",
        "colab_type": "code",
        "colab": {}
      },
      "cell_type": "code",
      "source": [
        ""
      ],
      "execution_count": 0,
      "outputs": []
    }
  ]
}