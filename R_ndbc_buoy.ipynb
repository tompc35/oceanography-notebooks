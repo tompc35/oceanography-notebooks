{
  "nbformat": 4,
  "nbformat_minor": 0,
  "metadata": {
    "colab": {
      "provenance": [],
      "authorship_tag": "ABX9TyOm+wPysDCJUWEuYY+DQgkT",
      "include_colab_link": true
    },
    "kernelspec": {
      "name": "ir",
      "display_name": "R"
    },
    "language_info": {
      "name": "R"
    }
  },
  "cells": [
    {
      "cell_type": "markdown",
      "metadata": {
        "id": "view-in-github",
        "colab_type": "text"
      },
      "source": [
        "<a href=\"https://colab.research.google.com/github/tompc35/oceanography-notebooks/blob/master/R_ndbc_buoy.ipynb\" target=\"_parent\"><img src=\"https://colab.research.google.com/assets/colab-badge.svg\" alt=\"Open In Colab\"/></a>"
      ]
    },
    {
      "cell_type": "markdown",
      "source": [
        "## NDBC data - analysis of wind vector time series with R\n",
        "\n",
        "This notebook demonstrates common time series analysis techniques with a two-dimensional data set: wind velocity from a meteorological buoy offshore of Monterey Bay. The buoy is maintained by the National Data Buoy Center (NDBC).\n",
        "\n",
        "The goal of this analysis is to calculate Ekman transport from buoy wind data.\n",
        "\n",
        "![upwelling_cartoon](https://oceanexplorer.noaa.gov/facts/media/upwelling-800.jpg)"
      ],
      "metadata": {
        "id": "R3ZVwclQLsTP"
      }
    },
    {
      "cell_type": "markdown",
      "source": [
        "## Install and load packages\n",
        "\n",
        "First we need to install the [rnoaa](https://docs.ropensci.org/rnoaa/articles/rnoaa.html) package for loading NOAA data and the `ncdf4` package for working with data in NetCDF format."
      ],
      "metadata": {
        "id": "AYueM2SP3YuV"
      }
    },
    {
      "cell_type": "code",
      "source": [
        "install.packages(\"rnoaa\")\n",
        "install.packages(\"ncdf4\")"
      ],
      "metadata": {
        "colab": {
          "base_uri": "https://localhost:8080/"
        },
        "id": "ofwmwlcK5Wap",
        "outputId": "b785a6f6-c1ed-48b0-c952-4378bcd4376c"
      },
      "execution_count": 1,
      "outputs": [
        {
          "output_type": "stream",
          "name": "stderr",
          "text": [
            "Installing package into ‘/usr/local/lib/R/site-library’\n",
            "(as ‘lib’ is unspecified)\n",
            "\n",
            "also installing the dependencies ‘Rcpp’, ‘triebeard’, ‘urltools’, ‘httpcode’, ‘rjson’, ‘crul’, ‘XML’, ‘gridExtra’, ‘isdparser’, ‘geonames’, ‘hoardr’\n",
            "\n",
            "\n",
            "Installing package into ‘/usr/local/lib/R/site-library’\n",
            "(as ‘lib’ is unspecified)\n",
            "\n"
          ]
        }
      ]
    },
    {
      "cell_type": "code",
      "source": [
        "library(rnoaa)\n",
        "library(ggplot2)"
      ],
      "metadata": {
        "id": "8qk3D7r5Cdho",
        "colab": {
          "base_uri": "https://localhost:8080/"
        },
        "outputId": "1b5aa148-f66e-4e3a-e734-38749c291170"
      },
      "execution_count": 2,
      "outputs": [
        {
          "output_type": "stream",
          "name": "stderr",
          "text": [
            "The rnoaa package will soon be retired and archived because the underlying APIs have changed dramatically. The package currently works but does not pull the most recent data in all cases. A noaaWeather package is planned as a replacement but the functions will not be interchangeable.\n",
            "\n"
          ]
        }
      ]
    },
    {
      "cell_type": "markdown",
      "source": [
        "## Load data\n",
        "\n",
        "We will work with data from [NDBC buoy 46042](https://www.ndbc.noaa.gov/station_page.php?station=46042) offshore of Monterey Bay."
      ],
      "metadata": {
        "id": "h5t1xWiUMB5A"
      }
    },
    {
      "cell_type": "code",
      "source": [],
      "metadata": {
        "id": "hfoq-iv7Th6L"
      },
      "execution_count": 3,
      "outputs": []
    },
    {
      "cell_type": "markdown",
      "source": [
        "## Creating new variables in a data frame\n",
        "\n",
        "### Wind direction\n",
        "Convert wind direction to polar (mathematical) convention, counter-clockwise from east. This is still the direction that the wind is blowing *from*."
      ],
      "metadata": {
        "id": "c7himv70zMRG"
      }
    },
    {
      "cell_type": "code",
      "source": [],
      "metadata": {
        "id": "gMrXoWXOTkyL"
      },
      "execution_count": 4,
      "outputs": []
    },
    {
      "cell_type": "markdown",
      "source": [
        "### Create datetime variable\n",
        "\n",
        "R interprets the \"time\" variable as a string of characters. We can create a new variable that R recognizes as date and time on a calendar."
      ],
      "metadata": {
        "id": "7VAx3Zv8RthI"
      }
    },
    {
      "cell_type": "code",
      "source": [],
      "metadata": {
        "id": "lmfRL14XTn9Q"
      },
      "execution_count": 5,
      "outputs": []
    },
    {
      "cell_type": "markdown",
      "source": [
        "# Basic mathematical functions"
      ],
      "metadata": {
        "id": "5VAWU1sb0Grh"
      }
    },
    {
      "cell_type": "code",
      "source": [],
      "metadata": {
        "id": "vUbM4o5hTqRg"
      },
      "execution_count": 6,
      "outputs": []
    },
    {
      "cell_type": "markdown",
      "source": [
        "# Basic plots"
      ],
      "metadata": {
        "id": "IqBJswrN0UCX"
      }
    },
    {
      "cell_type": "code",
      "source": [],
      "metadata": {
        "id": "VxAdUstUTs3H"
      },
      "execution_count": 7,
      "outputs": []
    },
    {
      "cell_type": "markdown",
      "source": [
        "## Exercises\n",
        "\n",
        "a. Based on the plot of wind direction, identify a period when the wind is consistently favorable for upwelling. What is a typical direction for upwelling-favorable wind stress?"
      ],
      "metadata": {
        "id": "KmZb4zXAOEmE"
      }
    },
    {
      "cell_type": "markdown",
      "source": [
        "(Insert text here)"
      ],
      "metadata": {
        "id": "Vf8F0KZ75KzX"
      }
    },
    {
      "cell_type": "markdown",
      "source": [
        "b. Calculate the wind speed at 10m, using the simple method described here: https://www.ndbc.noaa.gov/faq/adjust_wind.shtml."
      ],
      "metadata": {
        "id": "SGJ-U1gR48Bg"
      }
    },
    {
      "cell_type": "code",
      "source": [
        "# insert code here\n"
      ],
      "metadata": {
        "id": "dymm_abmN6Z5"
      },
      "execution_count": 8,
      "outputs": []
    },
    {
      "cell_type": "markdown",
      "source": [
        "b. Make a plot that shows time series of the observed wind speed ($U$) and the wind speed at 10m ($U_{10}$)."
      ],
      "metadata": {
        "id": "QH6vtlIxOkJl"
      }
    },
    {
      "cell_type": "code",
      "source": [
        "# insert code here"
      ],
      "metadata": {
        "id": "0gAZYT8lQ1-U"
      },
      "execution_count": 9,
      "outputs": []
    },
    {
      "cell_type": "markdown",
      "source": [
        "c. Based on your plot above, describe whether the winds are relatively strong or light on the date of our class cruise (Sept. 19)."
      ],
      "metadata": {
        "id": "qC4dUTd5Q_06"
      }
    },
    {
      "cell_type": "markdown",
      "source": [
        "(Insert text here)"
      ],
      "metadata": {
        "id": "BkQnHpNJ5P1f"
      }
    },
    {
      "cell_type": "markdown",
      "source": [
        "d. Calculate and plot the magnitude of the wind stress. Use the following relationship between the wind speed and drag coefficient:\n",
        "\n",
        "$C_D = (0.8 + 0.065\\times U_{10}) \\times 10^{-3}$\n",
        "\n",
        "*source:* WAMDI (Wave Model Development and Implementation) Group (1988)\n",
        "\n",
        "*Note:* It would be best to use an iterative approach to recalculate $U_{10}$ based on the new drag coefficient, then recalculate $C_D$ based on the newer $U_{10}$, and so on... functions for doing those detailed calculations are available in [Python](https://github.com/pyoceans/python-airsea) and Matlab, but we won't worry about them here.\n"
      ],
      "metadata": {
        "id": "ko8VR5-cTyRI"
      }
    },
    {
      "cell_type": "code",
      "source": [],
      "metadata": {
        "id": "dz7S1DMFVfv2"
      },
      "execution_count": 10,
      "outputs": []
    },
    {
      "cell_type": "markdown",
      "source": [
        "e. From your calculated wind stress magnitude and wind direction, calculate the eastward and northward components of wind stress at 10m (call these variables tau_e and tau_n). The signs should be consistent with the direction that the wind is blowing *towards*.\n",
        "\n",
        "*Note:* Write out your calculations on paper before trying to write the code."
      ],
      "metadata": {
        "id": "AAhddwDlRTK0"
      }
    },
    {
      "cell_type": "code",
      "source": [],
      "metadata": {
        "id": "FAjG8HngRR5q"
      },
      "execution_count": 11,
      "outputs": []
    },
    {
      "cell_type": "markdown",
      "source": [
        "f. Plot your calculated tau_n and tau_e variables on the same plot. Label the y-axis with the appropriate units."
      ],
      "metadata": {
        "id": "fNHcyldvTZSR"
      }
    },
    {
      "cell_type": "code",
      "source": [],
      "metadata": {
        "id": "WYIYTs7uTfad"
      },
      "execution_count": 12,
      "outputs": []
    },
    {
      "cell_type": "markdown",
      "source": [
        "g. Go back to part a and find the period that you had identified as upwelling-favorable. Are the results you plotted in part f consistent with this conclusion? If not, identify the discrepancy between part a and part f and recalculate. If so, explain why below."
      ],
      "metadata": {
        "id": "MNLGQ5nDTh6U"
      }
    },
    {
      "cell_type": "markdown",
      "source": [
        "(Insert text here)"
      ],
      "metadata": {
        "id": "-1JJ0qge6ws2"
      }
    },
    {
      "cell_type": "code",
      "source": [
        "# insert code here"
      ],
      "metadata": {
        "id": "Zx-zJ2ktIqoE"
      },
      "execution_count": null,
      "outputs": []
    },
    {
      "cell_type": "markdown",
      "source": [
        "h. Calculate and plot the components of Ekman transport in the eastward and alongshore northward directions ($U_{Ek}$ and $V_{Ek}$)."
      ],
      "metadata": {
        "id": "IceljLlP6zZo"
      }
    },
    {
      "cell_type": "code",
      "source": [
        "# insert code here"
      ],
      "metadata": {
        "id": "riZLCoNBThB4"
      },
      "execution_count": 13,
      "outputs": []
    },
    {
      "cell_type": "markdown",
      "source": [
        "i. Based on $U_{Ek}$ and $V_{Ek}$, c alculate an \"upwelling index,\" which is defined as offshore-directed Ekman transport (positive values for offshore transport). Use the function below and the coast angle as defined in the global upwelling index tab at https://oceanview.pfeg.noaa.gov/products/upwelling/bakun\n",
        "\n",
        "Attach this plot as part of your answer for the final synthesis question on Canvas."
      ],
      "metadata": {
        "id": "9yH9XgtfGG9G"
      }
    },
    {
      "cell_type": "code",
      "source": [
        "# NOAA function for calculating upwelling index from Ekman transport (slightly modified)\n",
        "\n",
        "upwell <- function(ektrx, ektry, coast_angle) {\n",
        "  pi <- 3.1415927\n",
        "  degtorad <- pi/180.\n",
        "  alpha <- (360 - coast_angle) * degtorad\n",
        "  s1 <- cos(alpha)\n",
        "  t1 <- sin(alpha)\n",
        "  s2 <- -1 * t1\n",
        "  t2 <- s1\n",
        "  perp <- (s1 * ektrx) + (t1 * ektry)\n",
        "  para <- (s2 * ektrx) + (t2 * ektry)\n",
        "  return(perp)\n",
        "}"
      ],
      "metadata": {
        "id": "GjDPtd67GC-P"
      },
      "execution_count": 1,
      "outputs": []
    },
    {
      "cell_type": "code",
      "source": [],
      "metadata": {
        "id": "hsY_NZatZ5_O"
      },
      "execution_count": 21,
      "outputs": []
    },
    {
      "cell_type": "code",
      "source": [],
      "metadata": {
        "id": "PeqPzCaHbTko"
      },
      "execution_count": null,
      "outputs": []
    }
  ]
}