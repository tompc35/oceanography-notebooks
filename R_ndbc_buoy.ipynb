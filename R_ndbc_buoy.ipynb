{
  "nbformat": 4,
  "nbformat_minor": 0,
  "metadata": {
    "colab": {
      "provenance": [],
      "authorship_tag": "ABX9TyOs+mK46X5ZgAKAfTPJeBDY",
      "include_colab_link": true
    },
    "kernelspec": {
      "name": "ir",
      "display_name": "R"
    },
    "language_info": {
      "name": "R"
    }
  },
  "cells": [
    {
      "cell_type": "markdown",
      "metadata": {
        "id": "view-in-github",
        "colab_type": "text"
      },
      "source": [
        "<a href=\"https://colab.research.google.com/github/tompc35/oceanography-notebooks/blob/master/R_ndbc_buoy.ipynb\" target=\"_parent\"><img src=\"https://colab.research.google.com/assets/colab-badge.svg\" alt=\"Open In Colab\"/></a>"
      ]
    },
    {
      "cell_type": "markdown",
      "source": [
        "## NDBC data - analysis of wind vector time series with R\n",
        "\n",
        "This notebook demonstrates common time series analysis techniques with a two-dimensional data set: wind velocity from a meteorological buoy offshore of Monterey Bay. The buoy is maintained by the National Data Buoy Center (NDBC).\n",
        "\n",
        "The goal of this analysis is to calculate Ekman transport from buoy wind data.\n",
        "\n",
        "![upwelling_cartoon](https://oceanexplorer.noaa.gov/facts/media/upwelling-800.jpg)"
      ],
      "metadata": {
        "id": "R3ZVwclQLsTP"
      }
    },
    {
      "cell_type": "markdown",
      "source": [
        "## Install and load packages\n",
        "\n",
        "First we need to install the [rnoaa](https://docs.ropensci.org/rnoaa/articles/rnoaa.html) package for loading NOAA data and the `ncdf4` package for working with data in NetCDF format."
      ],
      "metadata": {
        "id": "AYueM2SP3YuV"
      }
    },
    {
      "cell_type": "code",
      "source": [
        "install.packages(\"rnoaa\")\n",
        "install.packages(\"ncdf4\")"
      ],
      "metadata": {
        "colab": {
          "base_uri": "https://localhost:8080/"
        },
        "id": "ofwmwlcK5Wap",
        "outputId": "582f4760-913d-4f64-fdcb-11d027499cbe"
      },
      "execution_count": null,
      "outputs": [
        {
          "output_type": "stream",
          "name": "stderr",
          "text": [
            "Installing package into ‘/usr/local/lib/R/site-library’\n",
            "(as ‘lib’ is unspecified)\n",
            "\n",
            "Installing package into ‘/usr/local/lib/R/site-library’\n",
            "(as ‘lib’ is unspecified)\n",
            "\n"
          ]
        }
      ]
    },
    {
      "cell_type": "code",
      "source": [
        "library(rnoaa)\n",
        "library(ggplot2)"
      ],
      "metadata": {
        "id": "8qk3D7r5Cdho"
      },
      "execution_count": null,
      "outputs": []
    },
    {
      "cell_type": "markdown",
      "source": [
        "## Load data\n",
        "\n",
        "We will work with data from [NDBC buoy 46042](https://www.ndbc.noaa.gov/station_page.php?station=46042) offshore of Monterey Bay."
      ],
      "metadata": {
        "id": "h5t1xWiUMB5A"
      }
    },
    {
      "cell_type": "code",
      "source": [],
      "metadata": {
        "id": "hfoq-iv7Th6L"
      },
      "execution_count": null,
      "outputs": []
    },
    {
      "cell_type": "markdown",
      "source": [
        "## Creating new variables in a data frame\n",
        "\n",
        "### Wind direction\n",
        "Convert wind direction to polar (mathematical) convention, counter-clockwise from east. This is still the direction that the wind is blowing *from*."
      ],
      "metadata": {
        "id": "c7himv70zMRG"
      }
    },
    {
      "cell_type": "code",
      "source": [],
      "metadata": {
        "id": "gMrXoWXOTkyL"
      },
      "execution_count": null,
      "outputs": []
    },
    {
      "cell_type": "markdown",
      "source": [
        "### Create datetime variable\n",
        "\n",
        "R interprets the \"time\" variable as a string of characters. We can create a new variable that R recognizes as date and time on a calendar."
      ],
      "metadata": {
        "id": "7VAx3Zv8RthI"
      }
    },
    {
      "cell_type": "code",
      "source": [],
      "metadata": {
        "id": "lmfRL14XTn9Q"
      },
      "execution_count": null,
      "outputs": []
    },
    {
      "cell_type": "markdown",
      "source": [
        "# Basic mathematical functions"
      ],
      "metadata": {
        "id": "5VAWU1sb0Grh"
      }
    },
    {
      "cell_type": "code",
      "source": [],
      "metadata": {
        "id": "vUbM4o5hTqRg"
      },
      "execution_count": null,
      "outputs": []
    },
    {
      "cell_type": "markdown",
      "source": [
        "# Basic plots"
      ],
      "metadata": {
        "id": "IqBJswrN0UCX"
      }
    },
    {
      "cell_type": "code",
      "source": [],
      "metadata": {
        "id": "VxAdUstUTs3H"
      },
      "execution_count": null,
      "outputs": []
    },
    {
      "cell_type": "markdown",
      "source": [
        "## Exercises\n",
        "\n",
        "a. Based on the plot of wind direction, identify a period when the wind is consistently favorable for upwelling."
      ],
      "metadata": {
        "id": "KmZb4zXAOEmE"
      }
    },
    {
      "cell_type": "markdown",
      "source": [
        "(Insert text here)"
      ],
      "metadata": {
        "id": "Vf8F0KZ75KzX"
      }
    },
    {
      "cell_type": "markdown",
      "source": [
        "b. Calculate the wind speed at 10m, using the simple method described here: https://www.ndbc.noaa.gov/faq/adjust_wind.shtml."
      ],
      "metadata": {
        "id": "SGJ-U1gR48Bg"
      }
    },
    {
      "cell_type": "code",
      "source": [
        "# insert code here\n"
      ],
      "metadata": {
        "id": "dymm_abmN6Z5"
      },
      "execution_count": null,
      "outputs": []
    },
    {
      "cell_type": "markdown",
      "source": [
        "b. Make a plot that shows time series of the observed wind speed ($U$) and the wind speed at 10m ($U_{10}$)."
      ],
      "metadata": {
        "id": "QH6vtlIxOkJl"
      }
    },
    {
      "cell_type": "code",
      "source": [
        "# insert code here"
      ],
      "metadata": {
        "id": "0gAZYT8lQ1-U"
      },
      "execution_count": null,
      "outputs": []
    },
    {
      "cell_type": "markdown",
      "source": [
        "c. Based on your plot above, describe whether the winds are relatively strong or light on the date of our class cruise (Sept. 19)."
      ],
      "metadata": {
        "id": "qC4dUTd5Q_06"
      }
    },
    {
      "cell_type": "markdown",
      "source": [
        "(Insert text here)"
      ],
      "metadata": {
        "id": "BkQnHpNJ5P1f"
      }
    },
    {
      "cell_type": "markdown",
      "source": [
        "d. Calculate and plot the magnitude of the wind stress. Use the following relationship between the wind speed and drag coefficient:\n",
        "\n",
        "$C_D = (0.8 + 0.065\\times U_{10}) \\times 10^{-3}$\n",
        "\n",
        "*source:* WAMDI (Wave Model Development and Implementation) Group (1988)\n",
        "\n",
        "*Note:* It would be best to use an iterative approach to recalculate $U_{10}$ based on the new drag coefficient, then recalculate $C_D$ based on the newer $U_{10}$, and so on... functions for doing those detailed calculations are available in [Python](https://github.com/pyoceans/python-airsea) and Matlab, but we won't worry about them here.\n"
      ],
      "metadata": {
        "id": "ko8VR5-cTyRI"
      }
    },
    {
      "cell_type": "code",
      "source": [],
      "metadata": {
        "id": "dz7S1DMFVfv2"
      },
      "execution_count": null,
      "outputs": []
    },
    {
      "cell_type": "markdown",
      "source": [
        "e. From your calculated wind stress magnitude and wind direction, calculate the eastward and northward components of wind stress at 10m (call these variables taux and tauy). The signs should be consistent with the direction that the wind is blowing *towards*.\n",
        "\n",
        "*Note:* Write out your calculations on paper before trying to write the code."
      ],
      "metadata": {
        "id": "AAhddwDlRTK0"
      }
    },
    {
      "cell_type": "code",
      "source": [],
      "metadata": {
        "id": "FAjG8HngRR5q"
      },
      "execution_count": null,
      "outputs": []
    },
    {
      "cell_type": "markdown",
      "source": [
        "f. Plot your calculated taux and tauy variables on the same plot. Label the y-axis with the appropriate units."
      ],
      "metadata": {
        "id": "fNHcyldvTZSR"
      }
    },
    {
      "cell_type": "code",
      "source": [],
      "metadata": {
        "id": "WYIYTs7uTfad"
      },
      "execution_count": null,
      "outputs": []
    },
    {
      "cell_type": "markdown",
      "source": [
        "g. Go back to part a and find the period that you had identified as upwelling-favorable. Are the results you plotted in part f consistent with this conclusion? If not, identify the discrepancy between part a and part f and recalculate. If so, explain why below."
      ],
      "metadata": {
        "id": "MNLGQ5nDTh6U"
      }
    },
    {
      "cell_type": "markdown",
      "source": [
        "(Insert text here)"
      ],
      "metadata": {
        "id": "-1JJ0qge6ws2"
      }
    },
    {
      "cell_type": "markdown",
      "source": [
        "h. Based on taux and tauy, calculate the eastward and northward components of Ekman transport."
      ],
      "metadata": {
        "id": "IceljLlP6zZo"
      }
    },
    {
      "cell_type": "code",
      "source": [],
      "metadata": {
        "id": "riZLCoNBThB4"
      },
      "execution_count": null,
      "outputs": []
    },
    {
      "cell_type": "markdown",
      "source": [
        "i. Plot the eastward and northward components of Ekman transport. Make sure that the predominant direction of Ekman transport is consistent with your physical intuition.\n",
        "\n",
        "Attach this plot as part of your answer for the final synthesis question on Canvas."
      ],
      "metadata": {
        "id": "4L2epzIv7z3P"
      }
    },
    {
      "cell_type": "code",
      "source": [
        "# insert code here"
      ],
      "metadata": {
        "id": "Au1dVvNv8cLm"
      },
      "execution_count": null,
      "outputs": []
    }
  ]
}