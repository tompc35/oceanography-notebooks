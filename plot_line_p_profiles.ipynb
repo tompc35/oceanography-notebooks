{
  "nbformat": 4,
  "nbformat_minor": 0,
  "metadata": {
    "colab": {
      "name": "plot_line_p_profiles.ipynb",
      "version": "0.3.2",
      "provenance": [],
      "collapsed_sections": [],
      "include_colab_link": true
    },
    "kernelspec": {
      "name": "python3",
      "display_name": "Python 3"
    }
  },
  "cells": [
    {
      "cell_type": "markdown",
      "metadata": {
        "id": "view-in-github",
        "colab_type": "text"
      },
      "source": [
        "<a href=\"https://colab.research.google.com/github/tompc35/oceanography-notebooks/blob/master/plot_line_p_profiles.ipynb\" target=\"_parent\"><img src=\"https://colab.research.google.com/assets/colab-badge.svg\" alt=\"Open In Colab\"/></a>"
      ]
    },
    {
      "cell_type": "markdown",
      "metadata": {
        "id": "c0jdA3tKcmfA",
        "colab_type": "text"
      },
      "source": [
        "# CTD casts from Line P"
      ]
    },
    {
      "cell_type": "markdown",
      "metadata": {
        "id": "O9VGIt_8cmfC",
        "colab_type": "text"
      },
      "source": [
        "This IPython notebook plots CTD casts from historical stations along Canada's Line P in the North Pacific ocean. \n",
        "\n",
        "Historical background on Line P can be found at:\n",
        "http://www.pac.dfo-mpo.gc.ca/science/oceans/data-donnees/line-p/history-histoire-eng.html\n",
        "\n",
        "This notebook uses bottle (.che) files obtained at:\n",
        "http://www.pac.dfo-mpo.gc.ca/science/oceans/data-donnees/line-p/data-eng.html\n",
        "\n",
        "The input file name may be changed to plot profiles from different cruises and/or stations.\n",
        "\n",
        "Written by Tom Connolly (tconnolly@mlml.calstate.edu) \n",
        "for MS142 (Physical Oceanography) 2015-2018"
      ]
    },
    {
      "cell_type": "code",
      "metadata": {
        "id": "DMayr5cvcmfE",
        "colab_type": "code",
        "outputId": "366cc98f-fd9d-4c03-d39a-6f1472d945d4",
        "colab": {
          "base_uri": "https://localhost:8080/",
          "height": 298
        }
      },
      "source": [
        "!pip install gsw  # Install Gibbs Seawater toolbox (GSW)\n",
        "!git clone https://github.com/tompc35/ms142-line-p-data.git  # Download data\n",
        "  \n",
        "# Import libraries\n",
        "import gsw as gsw\n",
        "import numpy as np\n",
        "from re import sub\n",
        "from matplotlib import pyplot as plt"
      ],
      "execution_count": 2,
      "outputs": [
        {
          "output_type": "stream",
          "text": [
            "Collecting gsw\n",
            "\u001b[?25l  Downloading https://files.pythonhosted.org/packages/31/88/bfb0b1df0ea0a147bde8020af1ffc089ff711a9c9ca630ebb6212a8bc8ff/gsw-3.3.1.tar.gz (2.4MB)\n",
            "\u001b[K     |████████████████████████████████| 2.4MB 2.8MB/s \n",
            "\u001b[?25hRequirement already satisfied: numpy in /usr/local/lib/python3.6/dist-packages (from gsw) (1.16.5)\n",
            "Building wheels for collected packages: gsw\n",
            "  Building wheel for gsw (setup.py) ... \u001b[?25l\u001b[?25hdone\n",
            "  Created wheel for gsw: filename=gsw-3.3.1-cp36-cp36m-linux_x86_64.whl size=2008445 sha256=e375df02562cea1c8a69535def29946d2db51a87bda7a25990e93ed1a685c64c\n",
            "  Stored in directory: /root/.cache/pip/wheels/34/a5/7d/a8398b76644ed482744a2c4af2f0869c20a15a3682c8d37ab6\n",
            "Successfully built gsw\n",
            "Installing collected packages: gsw\n",
            "Successfully installed gsw-3.3.1\n",
            "Cloning into 'ms142-line-p-data'...\n",
            "remote: Enumerating objects: 10, done.\u001b[K\n",
            "remote: Total 10 (delta 0), reused 0 (delta 0), pack-reused 10\u001b[K\n",
            "Unpacking objects: 100% (10/10), done.\n"
          ],
          "name": "stdout"
        }
      ]
    },
    {
      "cell_type": "markdown",
      "metadata": {
        "id": "M3lhO0DrgNa3",
        "colab_type": "text"
      },
      "source": [
        "Show the available files. Each .che file contains data from a different profile along Line P.\n",
        "\n"
      ]
    },
    {
      "cell_type": "code",
      "metadata": {
        "id": "4i2SsKPieJY0",
        "colab_type": "code",
        "outputId": "04e5a156-3e5e-4cea-ac3c-d7f21e5565bf",
        "colab": {
          "base_uri": "https://localhost:8080/",
          "height": 52
        }
      },
      "source": [
        "!ls ms142-line-p-data"
      ],
      "execution_count": 3,
      "outputs": [
        {
          "output_type": "stream",
          "text": [
            "1999-01-0005.che  2006-08-0026.che  2006-08-0054.che  2006-15-0007.che\n",
            "1999-01-0017.che  2006-08-0052.che  2006-15-0005.che  2006-15-0060.che\n"
          ],
          "name": "stdout"
        }
      ]
    },
    {
      "cell_type": "markdown",
      "metadata": {
        "id": "JWNjmE5Hg55i",
        "colab_type": "text"
      },
      "source": [
        "## Specify file here\n",
        "\n",
        "Choose a different file by changing the file name in quotes."
      ]
    },
    {
      "cell_type": "code",
      "metadata": {
        "id": "AMAp-tAAhCFp",
        "colab_type": "code",
        "colab": {}
      },
      "source": [
        "filename = \"1999-01-0017.che\""
      ],
      "execution_count": 0,
      "outputs": []
    },
    {
      "cell_type": "markdown",
      "metadata": {
        "id": "hCvZSbdshTVS",
        "colab_type": "text"
      },
      "source": [
        "Parse the file and load the data into variables.\n",
        "\n",
        "*There should be no need to edit this section!*\n"
      ]
    },
    {
      "cell_type": "code",
      "metadata": {
        "id": "CxsITgV-cmfP",
        "colab_type": "code",
        "colab": {}
      },
      "source": [
        "f = open('ms142-line-p-data/'+filename, 'r',errors='ignore')\n",
        "\n",
        "readdata = False\n",
        "firstline = True\n",
        "for line in f.readlines():\n",
        "    if readdata==True:\n",
        "        line = sub(\"[a-z]\", ' ', line) # strip flag characters\n",
        "        d = np.fromstring(line,sep=\" \")\n",
        "        if firstline == True:\n",
        "            data = d\n",
        "            firstline = False\n",
        "        else:\n",
        "            data = np.vstack((data,d))\n",
        "    if line.startswith(\"*END OF HEADER\")==True:\n",
        "        readdata=True          \n",
        "    # get station position from header\n",
        "    if \"LATITUDE\" in line:\n",
        "        starti = line.index(\":\")+1\n",
        "        endi = line.index(\"N\")-1\n",
        "        degmin = np.fromstring(line[starti:endi],sep=\" \")\n",
        "        lat = degmin[0]+degmin[1]/60\n",
        "    if \"LONGITUDE\" in line:\n",
        "        starti = line.index(\":\")+1\n",
        "        endi = line.index(\"W\")-1\n",
        "        degmin = np.fromstring(line[starti:endi],sep=\" \")\n",
        "        lon = -degmin[0]-degmin[1]/60\n",
        "    if \"STATION\" in line:\n",
        "        starti = line.index(\":\")+1\n",
        "        station_name = line[starti:-2]\n",
        "    if \"START TIME\" in line:    \n",
        "        starti = line.index(\"C\")+1 \n",
        "        endi = line.index(\".\") \n",
        "        date_string = line[starti:endi]\n",
        "    \n",
        "f.close()\n",
        "      \n",
        "ncol = data.shape[1]    \n",
        "    \n",
        "p = data[:,0]   # pressure [dbar]\n",
        "T = data[:,1]   # temperature [deg C]\n",
        "Sp = data[:,2]  # practical salinity\n",
        "if ncol >= 4:\n",
        "    O2 = data[:,3]\n",
        "if ncol >= 5:\n",
        "    nitrate = data[:,4]\n",
        "if ncol >= 6:\n",
        "    phosphate = data[:,5]\n",
        "if ncol >= 7:\n",
        "    silicate = data[:,6]"
      ],
      "execution_count": 0,
      "outputs": []
    },
    {
      "cell_type": "markdown",
      "metadata": {
        "id": "VkZr56TNhpSz",
        "colab_type": "text"
      },
      "source": [
        "Use the GSW toolbox to compute absolute salinity, potential temperature and conservative temperature."
      ]
    },
    {
      "cell_type": "code",
      "metadata": {
        "id": "jyAZDbRVcmfU",
        "colab_type": "code",
        "colab": {}
      },
      "source": [
        "SA = gsw.SA_from_SP(Sp,p,lon,lat)\n",
        "Tpot = gsw.pt_from_t(SA, T, p, 0)\n",
        "CT = gsw.CT_from_t(SA,T,p)"
      ],
      "execution_count": 0,
      "outputs": []
    },
    {
      "cell_type": "markdown",
      "metadata": {
        "id": "36vA7pnWcmfb",
        "colab_type": "text"
      },
      "source": [
        "# Plots\n",
        "\n",
        "## Temperature $T$, potential temperature $\\theta$, and conservative temperature $\\Theta$"
      ]
    },
    {
      "cell_type": "code",
      "metadata": {
        "id": "hZaeAdx7cmfd",
        "colab_type": "code",
        "outputId": "b383f102-bfc7-4751-abd4-b35f80bf18d6",
        "colab": {
          "base_uri": "https://localhost:8080/",
          "height": 316
        }
      },
      "source": [
        "plt.plot(T,p,'b-o')\n",
        "plt.plot(Tpot,p,'k-o')\n",
        "plt.plot(CT,p,'r-+')\n",
        "plt.gca().invert_yaxis()\n",
        "plt.xlabel('T, $\\\\theta$, $\\Theta$ [deg C]')\n",
        "plt.ylabel('pressure [dbar]')\n",
        "plt.title(station_name + ' ' + date_string)"
      ],
      "execution_count": 7,
      "outputs": [
        {
          "output_type": "execute_result",
          "data": {
            "text/plain": [
              "Text(0.5, 1.0, ' P2  1999/02/17 20:52:12')"
            ]
          },
          "metadata": {
            "tags": []
          },
          "execution_count": 7
        },
        {
          "output_type": "display_data",
          "data": {
            "image/png": "[encoded data removed]",
            "text/plain": [
              "<Figure size 432x288 with 1 Axes>"
            ]
          },
          "metadata": {
            "tags": []
          }
        }
      ]
    },
    {
      "cell_type": "markdown",
      "metadata": {
        "id": "KdxrCWi8cmfi",
        "colab_type": "text"
      },
      "source": [
        "## Practical salinity $S_P$ and absolute salinity $S_A$"
      ]
    },
    {
      "cell_type": "code",
      "metadata": {
        "id": "Q3dB3Ap6cmfk",
        "colab_type": "code",
        "outputId": "eccdea0d-a9e0-4fee-af37-ca6e84e6ea7a",
        "colab": {
          "base_uri": "https://localhost:8080/",
          "height": 317
        }
      },
      "source": [
        "plt.plot(Sp,p,'-o')\n",
        "plt.plot(SA,p,'-o')\n",
        "plt.gca().invert_yaxis()\n",
        "plt.xlabel('$S_p$ [psu], $S_A$ [g/kg]')\n",
        "plt.ylabel('pressure [dbar]')\n",
        "plt.title(station_name + ' ' + date_string)"
      ],
      "execution_count": 8,
      "outputs": [
        {
          "output_type": "execute_result",
          "data": {
            "text/plain": [
              "Text(0.5, 1.0, ' P2  1999/02/17 20:52:12')"
            ]
          },
          "metadata": {
            "tags": []
          },
          "execution_count": 8
        },
        {
          "output_type": "display_data",
          "data": {
            "image/png": "[encoded data removed]",
            "text/plain": [
              "<Figure size 432x288 with 1 Axes>"
            ]
          },
          "metadata": {
            "tags": []
          }
        }
      ]
    },
    {
      "cell_type": "markdown",
      "metadata": {
        "id": "3_iKdZSAcmf0",
        "colab_type": "text"
      },
      "source": [
        "## Dissolved oxygen"
      ]
    },
    {
      "cell_type": "code",
      "metadata": {
        "id": "s_A1vE2zcmf3",
        "colab_type": "code",
        "outputId": "4533c523-4387-4bf9-a193-c837cb2cc33f",
        "colab": {
          "base_uri": "https://localhost:8080/",
          "height": 299
        }
      },
      "source": [
        "if ncol >= 4:\n",
        "    plt.plot(O2,p,'-o')\n",
        "    plt.gca().invert_yaxis()\n",
        "    plt.xlabel('oxygen [$\\mu$mol/kg]')\n",
        "    plt.ylabel('pressure')\n",
        "    plt.title(station_name + ' ' + date_string)"
      ],
      "execution_count": 10,
      "outputs": [
        {
          "output_type": "display_data",
          "data": {
            "image/png": "[encoded data removed]",
            "text/plain": [
              "<Figure size 432x288 with 1 Axes>"
            ]
          },
          "metadata": {
            "tags": []
          }
        }
      ]
    },
    {
      "cell_type": "markdown",
      "metadata": {
        "id": "9zKrmR7rcmf_",
        "colab_type": "text"
      },
      "source": [
        "## Oxygen vs. NO$^-_3$+NO$^-_2$"
      ]
    },
    {
      "cell_type": "code",
      "metadata": {
        "id": "GtaWowTKcmgB",
        "colab_type": "code",
        "outputId": "6f2dae09-0841-457e-e507-c839268c9149",
        "colab": {
          "base_uri": "https://localhost:8080/",
          "height": 299
        }
      },
      "source": [
        "if ncol >= 5:\n",
        "    plt.plot(nitrate,O2,'-o')\n",
        "    plt.xlabel('nitrate+nitrite [$\\mu$mol/L]')\n",
        "    plt.ylabel('oxygen [$\\mu$mol/kg]')\n",
        "    plt.title(station_name + ' ' + date_string)"
      ],
      "execution_count": 21,
      "outputs": [
        {
          "output_type": "display_data",
          "data": {
            "image/png": "[encoded data removed]",
            "text/plain": [
              "<Figure size 432x288 with 1 Axes>"
            ]
          },
          "metadata": {
            "tags": []
          }
        }
      ]
    },
    {
      "cell_type": "markdown",
      "metadata": {
        "id": "7vfaxCXvcmfq",
        "colab_type": "text"
      },
      "source": [
        "## values for $\\theta$-$S$ diagram"
      ]
    },
    {
      "cell_type": "code",
      "metadata": {
        "id": "_RCp69q0RNLT",
        "colab_type": "code",
        "colab": {
          "base_uri": "https://localhost:8080/",
          "height": 330
        },
        "outputId": "ac76c741-461e-4e6b-90b3-be118b991060"
      },
      "source": [
        "print('Absolute Salinity','Potential Temperature ')\n",
        "print(np.array([SA,CT]).T)"
      ],
      "execution_count": 22,
      "outputs": [
        {
          "output_type": "stream",
          "text": [
            "Absolute Salinity Potential Temperature \n",
            "[[32.97876096  5.2020022 ]\n",
            " [32.97774853  5.19375125]\n",
            " [32.97771348  5.18425162]\n",
            " [32.9776626   5.18488633]\n",
            " [32.97805068  5.1924751 ]\n",
            " [32.97745092  5.18402474]\n",
            " [32.978771    5.18611963]\n",
            " [32.97795979  5.18215238]\n",
            " [32.97934819  5.17934781]\n",
            " [32.97877289  5.17495093]\n",
            " [33.42513635  5.11741706]\n",
            " [33.89501206  4.64483567]\n",
            " [33.92253029  4.43777508]\n",
            " [33.95468591  4.27496836]\n",
            " [34.02090452  4.09263337]\n",
            " [34.08743258  4.05304696]\n",
            " [34.21643267  4.01526051]]\n"
          ],
          "name": "stdout"
        }
      ]
    },
    {
      "cell_type": "code",
      "metadata": {
        "id": "S7gv0ScSSPmT",
        "colab_type": "code",
        "colab": {}
      },
      "source": [
        ""
      ],
      "execution_count": 0,
      "outputs": []
    }
  ]
}