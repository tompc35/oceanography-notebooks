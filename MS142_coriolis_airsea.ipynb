{
  "nbformat": 4,
  "nbformat_minor": 0,
  "metadata": {
    "colab": {
      "name": "MS142_coriolis_airsea.ipynb",
      "provenance": [],
      "authorship_tag": "ABX9TyM9gl5b6dU2HafoM9IQf3lM",
      "include_colab_link": true
    },
    "kernelspec": {
      "name": "python3",
      "display_name": "Python 3"
    }
  },
  "cells": [
    {
      "cell_type": "markdown",
      "metadata": {
        "id": "view-in-github",
        "colab_type": "text"
      },
      "source": [
        "<a href=\"https://colab.research.google.com/github/tompc35/oceanography-notebooks/blob/master/MS142_coriolis_airsea.ipynb\" target=\"_parent\"><img src=\"https://colab.research.google.com/assets/colab-badge.svg\" alt=\"Open In Colab\"/></a>"
      ]
    },
    {
      "cell_type": "markdown",
      "metadata": {
        "id": "GPit70gzzd11"
      },
      "source": [
        "Install packages"
      ]
    },
    {
      "cell_type": "code",
      "metadata": {
        "id": "P_w-6ES4fQVu",
        "outputId": "cc231d41-81cf-4000-c1b8-ce940131dd13",
        "colab": {
          "base_uri": "https://localhost:8080/",
          "height": 451
        }
      },
      "source": [
        "!pip install gsw\n",
        "!pip install airsea\n",
        "!pip install netCDF4"
      ],
      "execution_count": 2,
      "outputs": [
        {
          "output_type": "stream",
          "text": [
            "Collecting gsw\n",
            "\u001b[?25l  Downloading https://files.pythonhosted.org/packages/07/2d/b8a6d45211dac9cdb5019af825af532b9dde001eb9feec99f14147ce00b7/gsw-3.4.0-cp36-cp36m-manylinux2010_x86_64.whl (2.4MB)\n",
            "\u001b[K     |████████████████████████████████| 2.4MB 2.8MB/s \n",
            "\u001b[?25hRequirement already satisfied: numpy in /usr/local/lib/python3.6/dist-packages (from gsw) (1.18.5)\n",
            "Installing collected packages: gsw\n",
            "Successfully installed gsw-3.4.0\n",
            "Collecting airsea\n",
            "  Downloading https://files.pythonhosted.org/packages/0b/ec/eb6dad274f772b6aedc2cff7e700d2077db3ca0baaed2a3d6b2418d56024/airsea-0.0.1.tar.gz\n",
            "Requirement already satisfied: numpy in /usr/local/lib/python3.6/dist-packages (from airsea) (1.18.5)\n",
            "Building wheels for collected packages: airsea\n",
            "  Building wheel for airsea (setup.py) ... \u001b[?25l\u001b[?25hdone\n",
            "  Created wheel for airsea: filename=airsea-0.0.1-cp36-none-any.whl size=12472 sha256=7558fbd5658f0832d5195b6b4df0bfa25d9c53870eba56a6d57a63ce7bb59794\n",
            "  Stored in directory: /root/.cache/pip/wheels/80/ec/37/1fc5842fc87cc39360232e0af5f39ac2db3cb10b5fbd20f0b5\n",
            "Successfully built airsea\n",
            "Installing collected packages: airsea\n",
            "Successfully installed airsea-0.0.1\n",
            "Collecting netCDF4\n",
            "\u001b[?25l  Downloading https://files.pythonhosted.org/packages/09/39/3687b2ba762a709cd97e48dfaf3ae36a78ae603ec3d1487f767ad58a7b2e/netCDF4-1.5.4-cp36-cp36m-manylinux1_x86_64.whl (4.3MB)\n",
            "\u001b[K     |████████████████████████████████| 4.3MB 2.7MB/s \n",
            "\u001b[?25hRequirement already satisfied: numpy>=1.9 in /usr/local/lib/python3.6/dist-packages (from netCDF4) (1.18.5)\n",
            "Collecting cftime\n",
            "\u001b[?25l  Downloading https://files.pythonhosted.org/packages/81/f4/31cb9b65f462ea960bd334c5466313cb7b8af792f272546b68b7868fccd4/cftime-1.2.1-cp36-cp36m-manylinux1_x86_64.whl (287kB)\n",
            "\u001b[K     |████████████████████████████████| 296kB 33.1MB/s \n",
            "\u001b[?25hInstalling collected packages: cftime, netCDF4\n",
            "Successfully installed cftime-1.2.1 netCDF4-1.5.4\n"
          ],
          "name": "stdout"
        }
      ]
    },
    {
      "cell_type": "markdown",
      "metadata": {
        "id": "wbEcvkZYw_GW"
      },
      "source": [
        "Import libraries"
      ]
    },
    {
      "cell_type": "code",
      "metadata": {
        "id": "9PyCfTS9fWGb"
      },
      "source": [
        "import numpy as np                   # math\n",
        "from matplotlib import pyplot as plt # plotting\n",
        "import xarray as xr                  # data analysis\n",
        "import gsw                           # seawater\n",
        "import airsea                        # air-sea interaction"
      ],
      "execution_count": 6,
      "outputs": []
    },
    {
      "cell_type": "code",
      "metadata": {
        "id": "bLh5wOr--sbd"
      },
      "source": [
        ""
      ],
      "execution_count": null,
      "outputs": []
    },
    {
      "cell_type": "code",
      "metadata": {
        "id": "GM7WHVvl-6sm"
      },
      "source": [
        ""
      ],
      "execution_count": null,
      "outputs": []
    },
    {
      "cell_type": "code",
      "metadata": {
        "id": "77YwDNLP-sI2"
      },
      "source": [
        ""
      ],
      "execution_count": null,
      "outputs": []
    }
  ]
}