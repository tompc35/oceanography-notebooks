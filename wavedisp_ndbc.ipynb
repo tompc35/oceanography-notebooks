{
  "nbformat": 4,
  "nbformat_minor": 0,
  "metadata": {
    "colab": {
      "name": "wavedisp_ndbc.ipynb",
      "provenance": [],
      "authorship_tag": "ABX9TyPV++YQkW7xbV3oX+H8F+dK",
      "include_colab_link": true
    },
    "kernelspec": {
      "name": "python3",
      "display_name": "Python 3"
    }
  },
  "cells": [
    {
      "cell_type": "markdown",
      "metadata": {
        "id": "view-in-github",
        "colab_type": "text"
      },
      "source": [
        "<a href=\"https://colab.research.google.com/github/tompc35/oceanography-notebooks/blob/master/wavedisp_ndbc.ipynb\" target=\"_parent\"><img src=\"https://colab.research.google.com/assets/colab-badge.svg\" alt=\"Open In Colab\"/></a>"
      ]
    },
    {
      "cell_type": "markdown",
      "metadata": {
        "id": "GPit70gzzd11"
      },
      "source": [
        "Install packages"
      ]
    },
    {
      "cell_type": "code",
      "metadata": {
        "id": "P_w-6ES4fQVu",
        "colab": {
          "base_uri": "https://localhost:8080/"
        },
        "outputId": "771ffc23-3dfa-452b-c4db-dd498b55c7db"
      },
      "source": [
        "!pip install netCDF4\n",
        "!pip install physoce"
      ],
      "execution_count": null,
      "outputs": [
        {
          "output_type": "stream",
          "text": [
            "Requirement already satisfied: netCDF4 in /usr/local/lib/python3.6/dist-packages (1.5.4)\n",
            "Requirement already satisfied: cftime in /usr/local/lib/python3.6/dist-packages (from netCDF4) (1.3.0)\n",
            "Requirement already satisfied: numpy>=1.9 in /usr/local/lib/python3.6/dist-packages (from netCDF4) (1.18.5)\n",
            "Collecting physoce\n",
            "  Downloading https://files.pythonhosted.org/packages/3e/f7/211207956fdc958e953c11aed86d8eb2a6adadacb0b91a517a9e59804301/physoce-0.0.2-py3-none-any.whl\n",
            "Installing collected packages: physoce\n",
            "Successfully installed physoce-0.0.2\n"
          ],
          "name": "stdout"
        }
      ]
    },
    {
      "cell_type": "markdown",
      "metadata": {
        "id": "wbEcvkZYw_GW"
      },
      "source": [
        "Import libraries"
      ]
    },
    {
      "cell_type": "code",
      "metadata": {
        "id": "9PyCfTS9fWGb"
      },
      "source": [
        "import numpy as np                   # math\n",
        "from matplotlib import pyplot as plt # plotting\n",
        "import xarray as xr                  # data analysis\n",
        "from physoce.oceans import wavedisp"
      ],
      "execution_count": null,
      "outputs": []
    },
    {
      "cell_type": "code",
      "metadata": {
        "id": "FgNMUZT7Wsl6"
      },
      "source": [
        ""
      ],
      "execution_count": null,
      "outputs": []
    },
    {
      "cell_type": "code",
      "metadata": {
        "id": "YcDCo5GlWrbb"
      },
      "source": [
        ""
      ],
      "execution_count": null,
      "outputs": []
    },
    {
      "cell_type": "markdown",
      "metadata": {
        "id": "WmbwgOil0n5f"
      },
      "source": [
        "Load data from NDBC 46042"
      ]
    },
    {
      "cell_type": "code",
      "metadata": {
        "id": "3fB4Yx5xjLep"
      },
      "source": [
        "ndbc_nc_file = 'https://dods.ndbc.noaa.gov/thredds/dodsC/data/stdmet/46042/46042.ncml' \n",
        "ds = xr.open_dataset(ndbc_nc_file).squeeze()  "
      ],
      "execution_count": null,
      "outputs": []
    },
    {
      "cell_type": "code",
      "metadata": {
        "id": "jTnJHxn5PgV5"
      },
      "source": [
        ""
      ],
      "execution_count": null,
      "outputs": []
    }
  ]
}