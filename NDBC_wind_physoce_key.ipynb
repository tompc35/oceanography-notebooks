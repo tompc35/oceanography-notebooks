{
  "nbformat": 4,
  "nbformat_minor": 0,
  "metadata": {
    "kernelspec": {
      "display_name": "Python [conda env:ms263]",
      "language": "python",
      "name": "conda-env-ms263-py"
    },
    "language_info": {
      "codemirror_mode": {
        "name": "ipython",
        "version": 3
      },
      "file_extension": ".py",
      "mimetype": "text/x-python",
      "name": "python",
      "nbconvert_exporter": "python",
      "pygments_lexer": "ipython3",
      "version": "3.7.6"
    },
    "colab": {
      "name": "NDBC-wind-physoce-key.ipynb",
      "provenance": [],
      "collapsed_sections": [
        "4H7u3hKmHAmm",
        "_SEZ5hR5HAnI",
        "_IZ3uLjjHAnR",
        "b-WgzucpHAn7"
      ],
      "include_colab_link": true
    }
  },
  "cells": [
    {
      "cell_type": "markdown",
      "metadata": {
        "id": "view-in-github",
        "colab_type": "text"
      },
      "source": [
        "<a href=\"https://colab.research.google.com/github/tompc35/oceanography-notebooks/blob/master/NDBC_wind_physoce_key.ipynb\" target=\"_parent\"><img src=\"https://colab.research.google.com/assets/colab-badge.svg\" alt=\"Open In Colab\"/></a>"
      ]
    },
    {
      "cell_type": "markdown",
      "metadata": {
        "id": "F9719DfKHAlm"
      },
      "source": [
        "## NDBC data - analysis of wind vector time series\n",
        "\n",
        "This notebook demonstrates common time series analysis techniques with a two-dimensional data set: wind velocity from a meteorological buoy offshore of Monterey Bay. The buoy is maintained by the National Data Buoy Center (NDBC).\n",
        "\n",
        "The goal of this analysis is to calculate Ekman transport from buoy wind data.\n",
        "\n",
        "![upwelling_cartoon](https://oceanexplorer.noaa.gov/facts/media/upwelling-800.jpg)\n",
        "\n",
        "\n",
        "\n",
        "\n"
      ]
    },
    {
      "cell_type": "markdown",
      "metadata": {
        "id": "0GJWNrHXsccn"
      },
      "source": [
        "### Load data and packages\n",
        "\n",
        "#### Data source\n",
        "\n",
        "The data from Monterey NDBC buoy 46042 can be accessed from two different locations (we will be using the second here):\n",
        "\n",
        "* [Main page for buoy 46042 with real time data](https://www.ndbc.noaa.gov/station_page.php?station=46042)\n",
        "\n",
        "![Buoy map](https://www.ndbc.noaa.gov/images/maps/Monterey_Bay.gif)\n",
        "\n"
      ]
    },
    {
      "cell_type": "markdown",
      "metadata": {
        "id": "Ar7j_lg0IgHt"
      },
      "source": [
        "#### Install Python packages\n",
        "\n",
        "If working in Google Colab, some packages need to be installed."
      ]
    },
    {
      "cell_type": "code",
      "metadata": {
        "id": "Sx9QPOrUIQ70",
        "colab": {
          "base_uri": "https://localhost:8080/"
        },
        "outputId": "6dc271a4-4e67-413e-f7c4-5af9c278ec14"
      },
      "source": [
        "try:\n",
        "  import google.colab\n",
        "  IN_COLAB = True\n",
        "except:\n",
        "  IN_COLAB = False\n",
        "\n",
        "if IN_COLAB:\n",
        "    !pip install airsea\n",
        "    !pip install gsw"
      ],
      "execution_count": 3,
      "outputs": [
        {
          "output_type": "stream",
          "name": "stdout",
          "text": [
            "Collecting airsea\n",
            "  Downloading airsea-0.0.1.tar.gz (10 kB)\n",
            "Requirement already satisfied: numpy in /usr/local/lib/python3.7/dist-packages (from airsea) (1.19.5)\n",
            "Building wheels for collected packages: airsea\n",
            "  Building wheel for airsea (setup.py) ... \u001b[?25l\u001b[?25hdone\n",
            "  Created wheel for airsea: filename=airsea-0.0.1-py3-none-any.whl size=12495 sha256=018a9d696fbffbb4d72bcdc38f8d39e014b6efb327a66e463ec1e2dc9baa2ea8\n",
            "  Stored in directory: /root/.cache/pip/wheels/f7/35/0d/4c636c7d278f518075beafc7826c110e65ba37c7671d5a17cb\n",
            "Successfully built airsea\n",
            "Installing collected packages: airsea\n",
            "Successfully installed airsea-0.0.1\n",
            "Collecting gsw\n",
            "  Downloading gsw-3.4.0-cp37-cp37m-manylinux2010_x86_64.whl (2.4 MB)\n",
            "\u001b[K     |████████████████████████████████| 2.4 MB 34.7 MB/s \n",
            "\u001b[?25hRequirement already satisfied: numpy in /usr/local/lib/python3.7/dist-packages (from gsw) (1.19.5)\n",
            "Installing collected packages: gsw\n",
            "Successfully installed gsw-3.4.0\n"
          ]
        }
      ]
    },
    {
      "cell_type": "markdown",
      "metadata": {
        "id": "eAXG03woHyF6"
      },
      "source": [
        "#### Load Python packages\n",
        "\n",
        "This notebook uses the [xarray](http://xarray.pydata.org/en/stable/index.html) package, which is useful for working with multi-dimensional arrays. We will use xarray to load data in NetCDF format, which is a common data format used for large data sets in the earth sciences (CDF literally stands for \"common data format\").\n",
        "\n",
        "This notebook also uses functions specifically developed for oceanographic time series analyis in the [physoce](https://github.com/physoce/physoce-py) package."
      ]
    },
    {
      "cell_type": "code",
      "metadata": {
        "id": "sUxqTOK2HAlo"
      },
      "source": [
        "import numpy as np\n",
        "import matplotlib.pyplot as plt\n",
        "from airsea.windstress import stress\n",
        "import pandas as pd"
      ],
      "execution_count": 4,
      "outputs": []
    },
    {
      "cell_type": "markdown",
      "metadata": {
        "id": "E_lN39uaHAly"
      },
      "source": [
        "#### Load wind data\n",
        "\n",
        "We can use the *Pandas* library to access the data on NDBC's website. The code for converting this file format into a dataframe is provided."
      ]
    },
    {
      "cell_type": "code",
      "metadata": {
        "id": "kYkmHOm_PsfQ"
      },
      "source": [
        "txt_file = 'https://www.ndbc.noaa.gov/data/5day2/46042_5day.txt'"
      ],
      "execution_count": 5,
      "outputs": []
    },
    {
      "cell_type": "code",
      "metadata": {
        "id": "E7mGlWlMPvu7"
      },
      "source": [
        "df_raw = pd.read_csv(txt_file,skiprows=[1],sep='\\s+',parse_dates=[[0,1,2,3,4]])\n",
        "df = df_raw.apply(pd.to_numeric,errors='coerce')\n",
        "df['time'] = pd.to_datetime(df_raw['#YY_MM_DD_hh_mm'],format='%Y %m %d %H %M',errors='coerce')\n",
        "df = df.set_index('time')"
      ],
      "execution_count": 6,
      "outputs": []
    },
    {
      "cell_type": "code",
      "metadata": {
        "colab": {
          "base_uri": "https://localhost:8080/",
          "height": 455
        },
        "id": "TuvYthyoVZof",
        "outputId": "e3ad65f0-976b-4da1-b277-1493f6336d5c"
      },
      "source": [
        "df"
      ],
      "execution_count": 7,
      "outputs": [
        {
          "output_type": "execute_result",
          "data": {
            "text/html": [
              "<div>\n",
              "<style scoped>\n",
              "    .dataframe tbody tr th:only-of-type {\n",
              "        vertical-align: middle;\n",
              "    }\n",
              "\n",
              "    .dataframe tbody tr th {\n",
              "        vertical-align: top;\n",
              "    }\n",
              "\n",
              "    .dataframe thead th {\n",
              "        text-align: right;\n",
              "    }\n",
              "</style>\n",
              "<table border=\"1\" class=\"dataframe\">\n",
              "  <thead>\n",
              "    <tr style=\"text-align: right;\">\n",
              "      <th></th>\n",
              "      <th>#YY_MM_DD_hh_mm</th>\n",
              "      <th>WDIR</th>\n",
              "      <th>WSPD</th>\n",
              "      <th>GST</th>\n",
              "      <th>WVHT</th>\n",
              "      <th>DPD</th>\n",
              "      <th>APD</th>\n",
              "      <th>MWD</th>\n",
              "      <th>PRES</th>\n",
              "      <th>ATMP</th>\n",
              "      <th>WTMP</th>\n",
              "      <th>DEWP</th>\n",
              "      <th>VIS</th>\n",
              "      <th>PTDY</th>\n",
              "      <th>TIDE</th>\n",
              "    </tr>\n",
              "    <tr>\n",
              "      <th>time</th>\n",
              "      <th></th>\n",
              "      <th></th>\n",
              "      <th></th>\n",
              "      <th></th>\n",
              "      <th></th>\n",
              "      <th></th>\n",
              "      <th></th>\n",
              "      <th></th>\n",
              "      <th></th>\n",
              "      <th></th>\n",
              "      <th></th>\n",
              "      <th></th>\n",
              "      <th></th>\n",
              "      <th></th>\n",
              "      <th></th>\n",
              "    </tr>\n",
              "  </thead>\n",
              "  <tbody>\n",
              "    <tr>\n",
              "      <th>2021-10-26 18:10:00</th>\n",
              "      <td>NaN</td>\n",
              "      <td>100.0</td>\n",
              "      <td>4.0</td>\n",
              "      <td>7.0</td>\n",
              "      <td>NaN</td>\n",
              "      <td>NaN</td>\n",
              "      <td>NaN</td>\n",
              "      <td>NaN</td>\n",
              "      <td>1024.1</td>\n",
              "      <td>13.6</td>\n",
              "      <td>14.9</td>\n",
              "      <td>NaN</td>\n",
              "      <td>NaN</td>\n",
              "      <td>NaN</td>\n",
              "      <td>NaN</td>\n",
              "    </tr>\n",
              "    <tr>\n",
              "      <th>2021-10-26 18:00:00</th>\n",
              "      <td>NaN</td>\n",
              "      <td>100.0</td>\n",
              "      <td>4.0</td>\n",
              "      <td>7.0</td>\n",
              "      <td>NaN</td>\n",
              "      <td>NaN</td>\n",
              "      <td>NaN</td>\n",
              "      <td>NaN</td>\n",
              "      <td>1024.1</td>\n",
              "      <td>13.5</td>\n",
              "      <td>14.9</td>\n",
              "      <td>NaN</td>\n",
              "      <td>NaN</td>\n",
              "      <td>NaN</td>\n",
              "      <td>NaN</td>\n",
              "    </tr>\n",
              "    <tr>\n",
              "      <th>2021-10-26 17:50:00</th>\n",
              "      <td>NaN</td>\n",
              "      <td>100.0</td>\n",
              "      <td>4.0</td>\n",
              "      <td>6.0</td>\n",
              "      <td>3.8</td>\n",
              "      <td>15.0</td>\n",
              "      <td>9.6</td>\n",
              "      <td>299.0</td>\n",
              "      <td>1024.1</td>\n",
              "      <td>13.4</td>\n",
              "      <td>14.9</td>\n",
              "      <td>NaN</td>\n",
              "      <td>NaN</td>\n",
              "      <td>NaN</td>\n",
              "      <td>NaN</td>\n",
              "    </tr>\n",
              "    <tr>\n",
              "      <th>2021-10-26 17:40:00</th>\n",
              "      <td>NaN</td>\n",
              "      <td>100.0</td>\n",
              "      <td>4.0</td>\n",
              "      <td>8.0</td>\n",
              "      <td>NaN</td>\n",
              "      <td>NaN</td>\n",
              "      <td>NaN</td>\n",
              "      <td>NaN</td>\n",
              "      <td>1024.0</td>\n",
              "      <td>13.5</td>\n",
              "      <td>14.9</td>\n",
              "      <td>NaN</td>\n",
              "      <td>NaN</td>\n",
              "      <td>NaN</td>\n",
              "      <td>NaN</td>\n",
              "    </tr>\n",
              "    <tr>\n",
              "      <th>2021-10-26 17:30:00</th>\n",
              "      <td>NaN</td>\n",
              "      <td>100.0</td>\n",
              "      <td>4.0</td>\n",
              "      <td>6.0</td>\n",
              "      <td>NaN</td>\n",
              "      <td>NaN</td>\n",
              "      <td>NaN</td>\n",
              "      <td>NaN</td>\n",
              "      <td>1023.9</td>\n",
              "      <td>13.6</td>\n",
              "      <td>14.9</td>\n",
              "      <td>NaN</td>\n",
              "      <td>NaN</td>\n",
              "      <td>NaN</td>\n",
              "      <td>NaN</td>\n",
              "    </tr>\n",
              "    <tr>\n",
              "      <th>...</th>\n",
              "      <td>...</td>\n",
              "      <td>...</td>\n",
              "      <td>...</td>\n",
              "      <td>...</td>\n",
              "      <td>...</td>\n",
              "      <td>...</td>\n",
              "      <td>...</td>\n",
              "      <td>...</td>\n",
              "      <td>...</td>\n",
              "      <td>...</td>\n",
              "      <td>...</td>\n",
              "      <td>...</td>\n",
              "      <td>...</td>\n",
              "      <td>...</td>\n",
              "      <td>...</td>\n",
              "    </tr>\n",
              "    <tr>\n",
              "      <th>2021-10-21 19:10:00</th>\n",
              "      <td>NaN</td>\n",
              "      <td>180.0</td>\n",
              "      <td>6.0</td>\n",
              "      <td>7.0</td>\n",
              "      <td>NaN</td>\n",
              "      <td>NaN</td>\n",
              "      <td>NaN</td>\n",
              "      <td>NaN</td>\n",
              "      <td>1020.2</td>\n",
              "      <td>15.0</td>\n",
              "      <td>14.2</td>\n",
              "      <td>NaN</td>\n",
              "      <td>NaN</td>\n",
              "      <td>NaN</td>\n",
              "      <td>NaN</td>\n",
              "    </tr>\n",
              "    <tr>\n",
              "      <th>2021-10-21 19:00:00</th>\n",
              "      <td>NaN</td>\n",
              "      <td>180.0</td>\n",
              "      <td>6.0</td>\n",
              "      <td>7.0</td>\n",
              "      <td>NaN</td>\n",
              "      <td>NaN</td>\n",
              "      <td>NaN</td>\n",
              "      <td>NaN</td>\n",
              "      <td>1020.3</td>\n",
              "      <td>15.0</td>\n",
              "      <td>14.2</td>\n",
              "      <td>NaN</td>\n",
              "      <td>NaN</td>\n",
              "      <td>NaN</td>\n",
              "      <td>NaN</td>\n",
              "    </tr>\n",
              "    <tr>\n",
              "      <th>2021-10-21 18:50:00</th>\n",
              "      <td>NaN</td>\n",
              "      <td>180.0</td>\n",
              "      <td>6.0</td>\n",
              "      <td>7.0</td>\n",
              "      <td>2.3</td>\n",
              "      <td>13.0</td>\n",
              "      <td>8.4</td>\n",
              "      <td>299.0</td>\n",
              "      <td>1020.4</td>\n",
              "      <td>15.0</td>\n",
              "      <td>NaN</td>\n",
              "      <td>NaN</td>\n",
              "      <td>NaN</td>\n",
              "      <td>NaN</td>\n",
              "      <td>NaN</td>\n",
              "    </tr>\n",
              "    <tr>\n",
              "      <th>2021-10-21 18:40:00</th>\n",
              "      <td>NaN</td>\n",
              "      <td>180.0</td>\n",
              "      <td>6.0</td>\n",
              "      <td>7.0</td>\n",
              "      <td>2.3</td>\n",
              "      <td>NaN</td>\n",
              "      <td>8.4</td>\n",
              "      <td>299.0</td>\n",
              "      <td>1020.5</td>\n",
              "      <td>15.0</td>\n",
              "      <td>14.1</td>\n",
              "      <td>NaN</td>\n",
              "      <td>NaN</td>\n",
              "      <td>NaN</td>\n",
              "      <td>NaN</td>\n",
              "    </tr>\n",
              "    <tr>\n",
              "      <th>2021-10-21 18:30:00</th>\n",
              "      <td>NaN</td>\n",
              "      <td>180.0</td>\n",
              "      <td>6.0</td>\n",
              "      <td>7.0</td>\n",
              "      <td>NaN</td>\n",
              "      <td>NaN</td>\n",
              "      <td>NaN</td>\n",
              "      <td>NaN</td>\n",
              "      <td>1020.4</td>\n",
              "      <td>14.9</td>\n",
              "      <td>14.1</td>\n",
              "      <td>NaN</td>\n",
              "      <td>NaN</td>\n",
              "      <td>NaN</td>\n",
              "      <td>NaN</td>\n",
              "    </tr>\n",
              "  </tbody>\n",
              "</table>\n",
              "<p>717 rows × 15 columns</p>\n",
              "</div>"
            ],
            "text/plain": [
              "                     #YY_MM_DD_hh_mm   WDIR  WSPD  GST  ...  DEWP  VIS  PTDY  TIDE\n",
              "time                                                    ...                       \n",
              "2021-10-26 18:10:00              NaN  100.0   4.0  7.0  ...   NaN  NaN   NaN   NaN\n",
              "2021-10-26 18:00:00              NaN  100.0   4.0  7.0  ...   NaN  NaN   NaN   NaN\n",
              "2021-10-26 17:50:00              NaN  100.0   4.0  6.0  ...   NaN  NaN   NaN   NaN\n",
              "2021-10-26 17:40:00              NaN  100.0   4.0  8.0  ...   NaN  NaN   NaN   NaN\n",
              "2021-10-26 17:30:00              NaN  100.0   4.0  6.0  ...   NaN  NaN   NaN   NaN\n",
              "...                              ...    ...   ...  ...  ...   ...  ...   ...   ...\n",
              "2021-10-21 19:10:00              NaN  180.0   6.0  7.0  ...   NaN  NaN   NaN   NaN\n",
              "2021-10-21 19:00:00              NaN  180.0   6.0  7.0  ...   NaN  NaN   NaN   NaN\n",
              "2021-10-21 18:50:00              NaN  180.0   6.0  7.0  ...   NaN  NaN   NaN   NaN\n",
              "2021-10-21 18:40:00              NaN  180.0   6.0  7.0  ...   NaN  NaN   NaN   NaN\n",
              "2021-10-21 18:30:00              NaN  180.0   6.0  7.0  ...   NaN  NaN   NaN   NaN\n",
              "\n",
              "[717 rows x 15 columns]"
            ]
          },
          "metadata": {},
          "execution_count": 7
        }
      ]
    },
    {
      "cell_type": "code",
      "metadata": {
        "colab": {
          "base_uri": "https://localhost:8080/",
          "height": 320
        },
        "id": "c7Ivzr86P7sK",
        "outputId": "42d9a1fa-8b83-4ada-b529-548d04dd68e4"
      },
      "source": [
        "df['WSPD'].plot(title='wind speed',ylabel='m/s')\n",
        "#plt.ylabel('[m/s]')\n",
        "#plt.title('wind speed')"
      ],
      "execution_count": 12,
      "outputs": [
        {
          "output_type": "execute_result",
          "data": {
            "text/plain": [
              "<matplotlib.axes._subplots.AxesSubplot at 0x7fadeec3f090>"
            ]
          },
          "metadata": {},
          "execution_count": 12
        },
        {
          "output_type": "display_data",
          "data": {
            "image/png": "[encoded data removed]",
            "text/plain": [
              "<Figure size 432x288 with 1 Axes>"
            ]
          },
          "metadata": {
            "needs_background": "light"
          }
        }
      ]
    },
    {
      "cell_type": "markdown",
      "metadata": {
        "id": "GtGEueY6HAmz"
      },
      "source": [
        "##### *Exercises*\n",
        "\n",
        "* Make a plot for wind *direction*, including title and axis label.\n",
        "* Make a plot for wave height "
      ]
    },
    {
      "cell_type": "code",
      "metadata": {
        "id": "chUcxNaJHAm0",
        "colab": {
          "base_uri": "https://localhost:8080/",
          "height": 320
        },
        "outputId": "21668ed3-314e-4152-bd9d-dc395146e07b"
      },
      "source": [
        "df['WDIR'].plot(title='wind dir',ylabel='[degrees]')"
      ],
      "execution_count": 43,
      "outputs": [
        {
          "output_type": "execute_result",
          "data": {
            "text/plain": [
              "<matplotlib.axes._subplots.AxesSubplot at 0x7faded4d8e50>"
            ]
          },
          "metadata": {},
          "execution_count": 43
        },
        {
          "output_type": "display_data",
          "data": {
            "image/png": "[encoded data removed]",
            "text/plain": [
              "<Figure size 432x288 with 1 Axes>"
            ]
          },
          "metadata": {
            "needs_background": "light"
          }
        }
      ]
    },
    {
      "cell_type": "code",
      "metadata": {
        "colab": {
          "base_uri": "https://localhost:8080/",
          "height": 320
        },
        "id": "p2sjwL957NT6",
        "outputId": "ff3a07c1-219e-490f-cee9-bdfbdede5166"
      },
      "source": [
        "df['WVHT'].plot(title='wave height',ylabel='[m]')"
      ],
      "execution_count": 44,
      "outputs": [
        {
          "output_type": "execute_result",
          "data": {
            "text/plain": [
              "<matplotlib.axes._subplots.AxesSubplot at 0x7faded42f210>"
            ]
          },
          "metadata": {},
          "execution_count": 44
        },
        {
          "output_type": "display_data",
          "data": {
            "image/png": "[encoded data removed]",
            "text/plain": [
              "<Figure size 432x288 with 1 Axes>"
            ]
          },
          "metadata": {
            "needs_background": "light"
          }
        }
      ]
    },
    {
      "cell_type": "markdown",
      "metadata": {
        "id": "nk0glSpLUVWm"
      },
      "source": [
        "#### Exercise\n",
        "\n",
        "At noon on 10/24, are the winds favorable for upwelling or downwelling?"
      ]
    },
    {
      "cell_type": "markdown",
      "metadata": {
        "id": "bm2uVNmyUXGU"
      },
      "source": [
        "Downwelling (be sure to account for the fact that NDBC buoys report the direction that the wind is coming FROM."
      ]
    },
    {
      "cell_type": "markdown",
      "metadata": {
        "id": "MEdwX8D9HAnW"
      },
      "source": [
        "### Calculating wind stress\n",
        "\n",
        "Physical oceanographers are often more interested in the *wind stress* than the wind speed. The wind stress is the force exerted on the surface of the ocean by the wind, and it has units of force per unit area [N/m$^2$] or [Pa]. Stress is typically denoted by the variable $\\tau$ (tau). Like wind velocity, wind stress is a vector and has both an eastward component ($\\tau^{se}$) and a northward component ($\\tau^{sn}$).\n",
        "\n",
        "The wind stress generally varies as a function of wind speed and the roughness of the sea surface (which also depends on the wind speed). To calculate stress, we need to know the wind velocity, and how high above the sea surface the wind measurements were collected.\n",
        "\n",
        "According to the [NDBC buoy site](https://www.ndbc.noaa.gov/station_page.php?station=46042), the anemometer that collects the wind observations is positioned at a height 4.1 m above the sea surface.\n",
        "\n",
        "We can use the `stress` function in the Python [airsea toolbox](https://github.com/pyoceans/python-airsea) to calculate the magnitude of the wind stress from the wind speed and measurement height."
      ]
    },
    {
      "cell_type": "code",
      "metadata": {
        "id": "cRxJi_nUI-D0"
      },
      "source": [
        "stress?"
      ],
      "execution_count": 17,
      "outputs": []
    },
    {
      "cell_type": "code",
      "metadata": {
        "id": "237-Y8pwHAnW"
      },
      "source": [
        "df['tau'] = stress(df['WSPD'],z=4.1)"
      ],
      "execution_count": 33,
      "outputs": []
    },
    {
      "cell_type": "code",
      "metadata": {
        "colab": {
          "base_uri": "https://localhost:8080/",
          "height": 304
        },
        "id": "Ka-yLDxB-Z1n",
        "outputId": "316d1702-50d1-4520-ecd7-ef49ac141363"
      },
      "source": [
        "df['tau'].plot()"
      ],
      "execution_count": 34,
      "outputs": [
        {
          "output_type": "execute_result",
          "data": {
            "text/plain": [
              "<matplotlib.axes._subplots.AxesSubplot at 0x7faded869390>"
            ]
          },
          "metadata": {},
          "execution_count": 34
        },
        {
          "output_type": "display_data",
          "data": {
            "image/png": "[encoded data removed]",
            "text/plain": [
              "<Figure size 432x288 with 1 Axes>"
            ]
          },
          "metadata": {
            "needs_background": "light"
          }
        }
      ]
    },
    {
      "cell_type": "markdown",
      "metadata": {
        "id": "qhSipH-hHAna"
      },
      "source": [
        "Use some trig to find the eastward and northward components of stress. The direction of the wind stress is the same as the direction of the wind velocity."
      ]
    },
    {
      "cell_type": "code",
      "metadata": {
        "id": "h2TpWln2XdJ_"
      },
      "source": [
        "df['tau_east'] = -df['tau']*np.cos((90-df['WDIR'])*np.pi/180)\n",
        "df['tau_north'] = -df['tau']*np.sin((90-df['WDIR'])*np.pi/180)"
      ],
      "execution_count": 31,
      "outputs": []
    },
    {
      "cell_type": "code",
      "metadata": {
        "colab": {
          "base_uri": "https://localhost:8080/",
          "height": 304
        },
        "id": "bQDyVwhdSsiJ",
        "outputId": "beaf2f88-9e63-42aa-dea3-326738c61bc9"
      },
      "source": [
        "df['tau_east'].plot()"
      ],
      "execution_count": 40,
      "outputs": [
        {
          "output_type": "execute_result",
          "data": {
            "text/plain": [
              "<matplotlib.axes._subplots.AxesSubplot at 0x7faded5e8d10>"
            ]
          },
          "metadata": {},
          "execution_count": 40
        },
        {
          "output_type": "display_data",
          "data": {
            "image/png": "[encoded data removed]",
            "text/plain": [
              "<Figure size 432x288 with 1 Axes>"
            ]
          },
          "metadata": {
            "needs_background": "light"
          }
        }
      ]
    },
    {
      "cell_type": "code",
      "metadata": {
        "colab": {
          "base_uri": "https://localhost:8080/",
          "height": 304
        },
        "id": "gIxj8qQqSyyy",
        "outputId": "56e47eaa-6855-42c8-8460-778d7c0dee25"
      },
      "source": [
        "df['tau_north'].plot()"
      ],
      "execution_count": 41,
      "outputs": [
        {
          "output_type": "execute_result",
          "data": {
            "text/plain": [
              "<matplotlib.axes._subplots.AxesSubplot at 0x7faded56f0d0>"
            ]
          },
          "metadata": {},
          "execution_count": 41
        },
        {
          "output_type": "display_data",
          "data": {
            "image/png": "[encoded data removed]",
            "text/plain": [
              "<Figure size 432x288 with 1 Axes>"
            ]
          },
          "metadata": {
            "needs_background": "light"
          }
        }
      ]
    },
    {
      "cell_type": "markdown",
      "metadata": {
        "id": "tPYcRKCsHAoN"
      },
      "source": [
        "#### Extra Exercises \n",
        "\n",
        "Physical oceanography calculations. Compute and plot the eastward Ekman transport $U_{Ek}$ and the northward Ekman transport $V_{Ek}$."
      ]
    },
    {
      "cell_type": "code",
      "metadata": {
        "id": "-7xnCzTUem4Z"
      },
      "source": [
        "# insert code here"
      ],
      "execution_count": null,
      "outputs": []
    },
    {
      "cell_type": "markdown",
      "metadata": {
        "id": "qEm-jSI_HAoO"
      },
      "source": [
        "#### Exercise\n",
        "\n",
        "Apply this same analysis to another NDBC buoy on the west coast. \n",
        "\n",
        "* Find the buoy ID number using the map interface at https://www.ndbc.noaa.gov/\n",
        "* In the `txt_file` variable above, replace 46042 with the new buoy ID number."
      ]
    },
    {
      "cell_type": "code",
      "metadata": {
        "id": "bZfijY8YI-CZ"
      },
      "source": [
        "# insert code here"
      ],
      "execution_count": 161,
      "outputs": []
    }
  ]
}